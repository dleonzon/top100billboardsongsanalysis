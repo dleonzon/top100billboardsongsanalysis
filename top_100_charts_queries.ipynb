{
 "cells": [
  {
   "cell_type": "markdown",
   "metadata": {},
   "source": [
    "### Top 100 Billboard - Analysis and Visualization Project\n",
    "\n",
    "###### This project will conduct analysis and visualization on the Top 100 Billboard Songs from when they started tracking the rankings in 1958 all the way to the present day, 2021 (latest). The dataset was provided by Kaggle, special thanks to DHRUVIL DAVE for providing such a large dataset. \n",
    "\n",
    "#### Pre-Preparation\n",
    "\n",
    "###### Upon initial glance at the CSV file, there are some null values that will prohibit us from analyzing the full sheet. We will have to remove those values to make sure that the analysis is ran smoothly.\n",
    "\n",
    "\n",
    "#### Dataset Preparation\n",
    "##### We will start preparing the dataset by removing, cleaning, or anything of the matter to the dataset. "
   ]
  },
  {
   "cell_type": "code",
   "execution_count": 1,
   "metadata": {},
   "outputs": [],
   "source": [
    "# import modules\n",
    "import pandas as pd\n",
    "import matplotlib.pyplot as plt"
   ]
  },
  {
   "cell_type": "code",
   "execution_count": 2,
   "metadata": {},
   "outputs": [],
   "source": [
    "# import csv\n",
    "df = pd.read_csv(\"C:\\\\Users\\\\imdim\\\\Desktop\\\\Portfolio Projects\\\\Top 100\\\\charts.csv\")"
   ]
  },
  {
   "cell_type": "code",
   "execution_count": 3,
   "metadata": {},
   "outputs": [
    {
     "data": {
      "text/html": [
       "<div>\n",
       "<style scoped>\n",
       "    .dataframe tbody tr th:only-of-type {\n",
       "        vertical-align: middle;\n",
       "    }\n",
       "\n",
       "    .dataframe tbody tr th {\n",
       "        vertical-align: top;\n",
       "    }\n",
       "\n",
       "    .dataframe thead th {\n",
       "        text-align: right;\n",
       "    }\n",
       "</style>\n",
       "<table border=\"1\" class=\"dataframe\">\n",
       "  <thead>\n",
       "    <tr style=\"text-align: right;\">\n",
       "      <th></th>\n",
       "      <th>date</th>\n",
       "      <th>rank</th>\n",
       "      <th>song</th>\n",
       "      <th>artist</th>\n",
       "      <th>last-week</th>\n",
       "      <th>peak-rank</th>\n",
       "      <th>weeks-on-board</th>\n",
       "    </tr>\n",
       "  </thead>\n",
       "  <tbody>\n",
       "    <tr>\n",
       "      <th>0</th>\n",
       "      <td>2021-11-06</td>\n",
       "      <td>1</td>\n",
       "      <td>Easy On Me</td>\n",
       "      <td>Adele</td>\n",
       "      <td>1.0</td>\n",
       "      <td>1</td>\n",
       "      <td>3</td>\n",
       "    </tr>\n",
       "    <tr>\n",
       "      <th>1</th>\n",
       "      <td>2021-11-06</td>\n",
       "      <td>2</td>\n",
       "      <td>Stay</td>\n",
       "      <td>The Kid LAROI &amp; Justin Bieber</td>\n",
       "      <td>2.0</td>\n",
       "      <td>1</td>\n",
       "      <td>16</td>\n",
       "    </tr>\n",
       "    <tr>\n",
       "      <th>2</th>\n",
       "      <td>2021-11-06</td>\n",
       "      <td>3</td>\n",
       "      <td>Industry Baby</td>\n",
       "      <td>Lil Nas X &amp; Jack Harlow</td>\n",
       "      <td>3.0</td>\n",
       "      <td>1</td>\n",
       "      <td>14</td>\n",
       "    </tr>\n",
       "    <tr>\n",
       "      <th>3</th>\n",
       "      <td>2021-11-06</td>\n",
       "      <td>4</td>\n",
       "      <td>Fancy Like</td>\n",
       "      <td>Walker Hayes</td>\n",
       "      <td>4.0</td>\n",
       "      <td>3</td>\n",
       "      <td>19</td>\n",
       "    </tr>\n",
       "    <tr>\n",
       "      <th>4</th>\n",
       "      <td>2021-11-06</td>\n",
       "      <td>5</td>\n",
       "      <td>Bad Habits</td>\n",
       "      <td>Ed Sheeran</td>\n",
       "      <td>5.0</td>\n",
       "      <td>2</td>\n",
       "      <td>18</td>\n",
       "    </tr>\n",
       "    <tr>\n",
       "      <th>5</th>\n",
       "      <td>2021-11-06</td>\n",
       "      <td>6</td>\n",
       "      <td>Way 2 Sexy</td>\n",
       "      <td>Drake Featuring Future &amp; Young Thug</td>\n",
       "      <td>6.0</td>\n",
       "      <td>1</td>\n",
       "      <td>8</td>\n",
       "    </tr>\n",
       "    <tr>\n",
       "      <th>6</th>\n",
       "      <td>2021-11-06</td>\n",
       "      <td>7</td>\n",
       "      <td>Shivers</td>\n",
       "      <td>Ed Sheeran</td>\n",
       "      <td>9.0</td>\n",
       "      <td>7</td>\n",
       "      <td>7</td>\n",
       "    </tr>\n",
       "    <tr>\n",
       "      <th>7</th>\n",
       "      <td>2021-11-06</td>\n",
       "      <td>8</td>\n",
       "      <td>Good 4 U</td>\n",
       "      <td>Olivia Rodrigo</td>\n",
       "      <td>7.0</td>\n",
       "      <td>1</td>\n",
       "      <td>24</td>\n",
       "    </tr>\n",
       "    <tr>\n",
       "      <th>8</th>\n",
       "      <td>2021-11-06</td>\n",
       "      <td>9</td>\n",
       "      <td>Need To Know</td>\n",
       "      <td>Doja Cat</td>\n",
       "      <td>11.0</td>\n",
       "      <td>9</td>\n",
       "      <td>20</td>\n",
       "    </tr>\n",
       "    <tr>\n",
       "      <th>9</th>\n",
       "      <td>2021-11-06</td>\n",
       "      <td>10</td>\n",
       "      <td>Levitating</td>\n",
       "      <td>Dua Lipa</td>\n",
       "      <td>8.0</td>\n",
       "      <td>2</td>\n",
       "      <td>56</td>\n",
       "    </tr>\n",
       "  </tbody>\n",
       "</table>\n",
       "</div>"
      ],
      "text/plain": [
       "         date  rank           song                               artist  \\\n",
       "0  2021-11-06     1     Easy On Me                                Adele   \n",
       "1  2021-11-06     2           Stay        The Kid LAROI & Justin Bieber   \n",
       "2  2021-11-06     3  Industry Baby              Lil Nas X & Jack Harlow   \n",
       "3  2021-11-06     4     Fancy Like                         Walker Hayes   \n",
       "4  2021-11-06     5     Bad Habits                           Ed Sheeran   \n",
       "5  2021-11-06     6     Way 2 Sexy  Drake Featuring Future & Young Thug   \n",
       "6  2021-11-06     7        Shivers                           Ed Sheeran   \n",
       "7  2021-11-06     8       Good 4 U                       Olivia Rodrigo   \n",
       "8  2021-11-06     9   Need To Know                             Doja Cat   \n",
       "9  2021-11-06    10     Levitating                             Dua Lipa   \n",
       "\n",
       "   last-week  peak-rank  weeks-on-board  \n",
       "0        1.0          1               3  \n",
       "1        2.0          1              16  \n",
       "2        3.0          1              14  \n",
       "3        4.0          3              19  \n",
       "4        5.0          2              18  \n",
       "5        6.0          1               8  \n",
       "6        9.0          7               7  \n",
       "7        7.0          1              24  \n",
       "8       11.0          9              20  \n",
       "9        8.0          2              56  "
      ]
     },
     "execution_count": 3,
     "metadata": {},
     "output_type": "execute_result"
    }
   ],
   "source": [
    "# read csv, make sure that the dataset is being read correctly\n",
    "df.head(10)"
   ]
  },
  {
   "cell_type": "code",
   "execution_count": 4,
   "metadata": {},
   "outputs": [
    {
     "name": "stdout",
     "output_type": "stream",
     "text": [
      "<class 'pandas.core.frame.DataFrame'>\n",
      "RangeIndex: 330087 entries, 0 to 330086\n",
      "Data columns (total 7 columns):\n",
      " #   Column          Non-Null Count   Dtype  \n",
      "---  ------          --------------   -----  \n",
      " 0   date            330087 non-null  object \n",
      " 1   rank            330087 non-null  int64  \n",
      " 2   song            330087 non-null  object \n",
      " 3   artist          330087 non-null  object \n",
      " 4   last-week       297775 non-null  float64\n",
      " 5   peak-rank       330087 non-null  int64  \n",
      " 6   weeks-on-board  330087 non-null  int64  \n",
      "dtypes: float64(1), int64(3), object(3)\n",
      "memory usage: 17.6+ MB\n"
     ]
    }
   ],
   "source": [
    "# familiarize ourselves with dataset information\n",
    "df.info()"
   ]
  },
  {
   "cell_type": "markdown",
   "metadata": {},
   "source": [
    "###### We see that there are 7 columns with a total count of 330087 rows. We also notice that the 5th column \"last-week\" is missing values. We will need to clean this before we start the analysis."
   ]
  },
  {
   "cell_type": "code",
   "execution_count": 5,
   "metadata": {},
   "outputs": [
    {
     "name": "stdout",
     "output_type": "stream",
     "text": [
      "date                  0\n",
      "rank                  0\n",
      "song                  0\n",
      "artist                0\n",
      "last-week         32312\n",
      "peak-rank             0\n",
      "weeks-on-board        0\n",
      "dtype: int64\n"
     ]
    }
   ],
   "source": [
    "# detect how many missing values are missing\n",
    "any_null = df.isnull().sum()\n",
    "print(any_null)"
   ]
  },
  {
   "cell_type": "markdown",
   "metadata": {},
   "source": [
    "###### we see that the last week column has 32312 missing/null values."
   ]
  },
  {
   "cell_type": "code",
   "execution_count": 6,
   "metadata": {},
   "outputs": [
    {
     "name": "stdout",
     "output_type": "stream",
     "text": [
      "<class 'pandas.core.frame.DataFrame'>\n",
      "Index: 297775 entries, 0 to 329986\n",
      "Data columns (total 7 columns):\n",
      " #   Column          Non-Null Count   Dtype  \n",
      "---  ------          --------------   -----  \n",
      " 0   date            297775 non-null  object \n",
      " 1   rank            297775 non-null  int64  \n",
      " 2   song            297775 non-null  object \n",
      " 3   artist          297775 non-null  object \n",
      " 4   last-week       297775 non-null  float64\n",
      " 5   peak-rank       297775 non-null  int64  \n",
      " 6   weeks-on-board  297775 non-null  int64  \n",
      "dtypes: float64(1), int64(3), object(3)\n",
      "memory usage: 18.2+ MB\n"
     ]
    }
   ],
   "source": [
    "df_clean = df.dropna(subset=['last-week'])\n",
    "df_clean.info()"
   ]
  },
  {
   "cell_type": "markdown",
   "metadata": {},
   "source": [
    "###### Now that all values match, we want to make sure that the datatypes are correct also. For the \"last-week\" column, the datatype is a float type. Lets convert this into an int datatype."
   ]
  },
  {
   "cell_type": "code",
   "execution_count": 7,
   "metadata": {},
   "outputs": [
    {
     "data": {
      "text/html": [
       "<div>\n",
       "<style scoped>\n",
       "    .dataframe tbody tr th:only-of-type {\n",
       "        vertical-align: middle;\n",
       "    }\n",
       "\n",
       "    .dataframe tbody tr th {\n",
       "        vertical-align: top;\n",
       "    }\n",
       "\n",
       "    .dataframe thead th {\n",
       "        text-align: right;\n",
       "    }\n",
       "</style>\n",
       "<table border=\"1\" class=\"dataframe\">\n",
       "  <thead>\n",
       "    <tr style=\"text-align: right;\">\n",
       "      <th></th>\n",
       "      <th>date</th>\n",
       "      <th>rank</th>\n",
       "      <th>song</th>\n",
       "      <th>artist</th>\n",
       "      <th>last-week</th>\n",
       "      <th>peak-rank</th>\n",
       "      <th>weeks-on-board</th>\n",
       "    </tr>\n",
       "  </thead>\n",
       "  <tbody>\n",
       "    <tr>\n",
       "      <th>0</th>\n",
       "      <td>2021-11-06</td>\n",
       "      <td>1</td>\n",
       "      <td>Easy On Me</td>\n",
       "      <td>Adele</td>\n",
       "      <td>1.0</td>\n",
       "      <td>1</td>\n",
       "      <td>3</td>\n",
       "    </tr>\n",
       "    <tr>\n",
       "      <th>1</th>\n",
       "      <td>2021-11-06</td>\n",
       "      <td>2</td>\n",
       "      <td>Stay</td>\n",
       "      <td>The Kid LAROI &amp; Justin Bieber</td>\n",
       "      <td>2.0</td>\n",
       "      <td>1</td>\n",
       "      <td>16</td>\n",
       "    </tr>\n",
       "    <tr>\n",
       "      <th>2</th>\n",
       "      <td>2021-11-06</td>\n",
       "      <td>3</td>\n",
       "      <td>Industry Baby</td>\n",
       "      <td>Lil Nas X &amp; Jack Harlow</td>\n",
       "      <td>3.0</td>\n",
       "      <td>1</td>\n",
       "      <td>14</td>\n",
       "    </tr>\n",
       "    <tr>\n",
       "      <th>3</th>\n",
       "      <td>2021-11-06</td>\n",
       "      <td>4</td>\n",
       "      <td>Fancy Like</td>\n",
       "      <td>Walker Hayes</td>\n",
       "      <td>4.0</td>\n",
       "      <td>3</td>\n",
       "      <td>19</td>\n",
       "    </tr>\n",
       "    <tr>\n",
       "      <th>4</th>\n",
       "      <td>2021-11-06</td>\n",
       "      <td>5</td>\n",
       "      <td>Bad Habits</td>\n",
       "      <td>Ed Sheeran</td>\n",
       "      <td>5.0</td>\n",
       "      <td>2</td>\n",
       "      <td>18</td>\n",
       "    </tr>\n",
       "    <tr>\n",
       "      <th>5</th>\n",
       "      <td>2021-11-06</td>\n",
       "      <td>6</td>\n",
       "      <td>Way 2 Sexy</td>\n",
       "      <td>Drake Featuring Future &amp; Young Thug</td>\n",
       "      <td>6.0</td>\n",
       "      <td>1</td>\n",
       "      <td>8</td>\n",
       "    </tr>\n",
       "    <tr>\n",
       "      <th>6</th>\n",
       "      <td>2021-11-06</td>\n",
       "      <td>7</td>\n",
       "      <td>Shivers</td>\n",
       "      <td>Ed Sheeran</td>\n",
       "      <td>9.0</td>\n",
       "      <td>7</td>\n",
       "      <td>7</td>\n",
       "    </tr>\n",
       "    <tr>\n",
       "      <th>7</th>\n",
       "      <td>2021-11-06</td>\n",
       "      <td>8</td>\n",
       "      <td>Good 4 U</td>\n",
       "      <td>Olivia Rodrigo</td>\n",
       "      <td>7.0</td>\n",
       "      <td>1</td>\n",
       "      <td>24</td>\n",
       "    </tr>\n",
       "    <tr>\n",
       "      <th>8</th>\n",
       "      <td>2021-11-06</td>\n",
       "      <td>9</td>\n",
       "      <td>Need To Know</td>\n",
       "      <td>Doja Cat</td>\n",
       "      <td>11.0</td>\n",
       "      <td>9</td>\n",
       "      <td>20</td>\n",
       "    </tr>\n",
       "    <tr>\n",
       "      <th>9</th>\n",
       "      <td>2021-11-06</td>\n",
       "      <td>10</td>\n",
       "      <td>Levitating</td>\n",
       "      <td>Dua Lipa</td>\n",
       "      <td>8.0</td>\n",
       "      <td>2</td>\n",
       "      <td>56</td>\n",
       "    </tr>\n",
       "  </tbody>\n",
       "</table>\n",
       "</div>"
      ],
      "text/plain": [
       "         date  rank           song                               artist  \\\n",
       "0  2021-11-06     1     Easy On Me                                Adele   \n",
       "1  2021-11-06     2           Stay        The Kid LAROI & Justin Bieber   \n",
       "2  2021-11-06     3  Industry Baby              Lil Nas X & Jack Harlow   \n",
       "3  2021-11-06     4     Fancy Like                         Walker Hayes   \n",
       "4  2021-11-06     5     Bad Habits                           Ed Sheeran   \n",
       "5  2021-11-06     6     Way 2 Sexy  Drake Featuring Future & Young Thug   \n",
       "6  2021-11-06     7        Shivers                           Ed Sheeran   \n",
       "7  2021-11-06     8       Good 4 U                       Olivia Rodrigo   \n",
       "8  2021-11-06     9   Need To Know                             Doja Cat   \n",
       "9  2021-11-06    10     Levitating                             Dua Lipa   \n",
       "\n",
       "   last-week  peak-rank  weeks-on-board  \n",
       "0        1.0          1               3  \n",
       "1        2.0          1              16  \n",
       "2        3.0          1              14  \n",
       "3        4.0          3              19  \n",
       "4        5.0          2              18  \n",
       "5        6.0          1               8  \n",
       "6        9.0          7               7  \n",
       "7        7.0          1              24  \n",
       "8       11.0          9              20  \n",
       "9        8.0          2              56  "
      ]
     },
     "execution_count": 7,
     "metadata": {},
     "output_type": "execute_result"
    }
   ],
   "source": [
    "df_clean.loc[:, 'last-week'] = df_clean.loc[:, 'last-week'].astype(int)\n",
    "df_clean.head(10)"
   ]
  },
  {
   "cell_type": "markdown",
   "metadata": {},
   "source": [
    "###### There is also a date column, with the specified dates. Lets convert this with the pandas datetime function."
   ]
  },
  {
   "cell_type": "code",
   "execution_count": 8,
   "metadata": {},
   "outputs": [
    {
     "data": {
      "text/html": [
       "<div>\n",
       "<style scoped>\n",
       "    .dataframe tbody tr th:only-of-type {\n",
       "        vertical-align: middle;\n",
       "    }\n",
       "\n",
       "    .dataframe tbody tr th {\n",
       "        vertical-align: top;\n",
       "    }\n",
       "\n",
       "    .dataframe thead th {\n",
       "        text-align: right;\n",
       "    }\n",
       "</style>\n",
       "<table border=\"1\" class=\"dataframe\">\n",
       "  <thead>\n",
       "    <tr style=\"text-align: right;\">\n",
       "      <th></th>\n",
       "      <th>date</th>\n",
       "      <th>rank</th>\n",
       "      <th>song</th>\n",
       "      <th>artist</th>\n",
       "      <th>last-week</th>\n",
       "      <th>peak-rank</th>\n",
       "      <th>weeks-on-board</th>\n",
       "    </tr>\n",
       "  </thead>\n",
       "  <tbody>\n",
       "    <tr>\n",
       "      <th>0</th>\n",
       "      <td>2021-11-06</td>\n",
       "      <td>1</td>\n",
       "      <td>Easy On Me</td>\n",
       "      <td>Adele</td>\n",
       "      <td>1.0</td>\n",
       "      <td>1</td>\n",
       "      <td>3</td>\n",
       "    </tr>\n",
       "    <tr>\n",
       "      <th>1</th>\n",
       "      <td>2021-11-06</td>\n",
       "      <td>2</td>\n",
       "      <td>Stay</td>\n",
       "      <td>The Kid LAROI &amp; Justin Bieber</td>\n",
       "      <td>2.0</td>\n",
       "      <td>1</td>\n",
       "      <td>16</td>\n",
       "    </tr>\n",
       "    <tr>\n",
       "      <th>2</th>\n",
       "      <td>2021-11-06</td>\n",
       "      <td>3</td>\n",
       "      <td>Industry Baby</td>\n",
       "      <td>Lil Nas X &amp; Jack Harlow</td>\n",
       "      <td>3.0</td>\n",
       "      <td>1</td>\n",
       "      <td>14</td>\n",
       "    </tr>\n",
       "    <tr>\n",
       "      <th>3</th>\n",
       "      <td>2021-11-06</td>\n",
       "      <td>4</td>\n",
       "      <td>Fancy Like</td>\n",
       "      <td>Walker Hayes</td>\n",
       "      <td>4.0</td>\n",
       "      <td>3</td>\n",
       "      <td>19</td>\n",
       "    </tr>\n",
       "    <tr>\n",
       "      <th>4</th>\n",
       "      <td>2021-11-06</td>\n",
       "      <td>5</td>\n",
       "      <td>Bad Habits</td>\n",
       "      <td>Ed Sheeran</td>\n",
       "      <td>5.0</td>\n",
       "      <td>2</td>\n",
       "      <td>18</td>\n",
       "    </tr>\n",
       "    <tr>\n",
       "      <th>5</th>\n",
       "      <td>2021-11-06</td>\n",
       "      <td>6</td>\n",
       "      <td>Way 2 Sexy</td>\n",
       "      <td>Drake Featuring Future &amp; Young Thug</td>\n",
       "      <td>6.0</td>\n",
       "      <td>1</td>\n",
       "      <td>8</td>\n",
       "    </tr>\n",
       "    <tr>\n",
       "      <th>6</th>\n",
       "      <td>2021-11-06</td>\n",
       "      <td>7</td>\n",
       "      <td>Shivers</td>\n",
       "      <td>Ed Sheeran</td>\n",
       "      <td>9.0</td>\n",
       "      <td>7</td>\n",
       "      <td>7</td>\n",
       "    </tr>\n",
       "    <tr>\n",
       "      <th>7</th>\n",
       "      <td>2021-11-06</td>\n",
       "      <td>8</td>\n",
       "      <td>Good 4 U</td>\n",
       "      <td>Olivia Rodrigo</td>\n",
       "      <td>7.0</td>\n",
       "      <td>1</td>\n",
       "      <td>24</td>\n",
       "    </tr>\n",
       "    <tr>\n",
       "      <th>8</th>\n",
       "      <td>2021-11-06</td>\n",
       "      <td>9</td>\n",
       "      <td>Need To Know</td>\n",
       "      <td>Doja Cat</td>\n",
       "      <td>11.0</td>\n",
       "      <td>9</td>\n",
       "      <td>20</td>\n",
       "    </tr>\n",
       "    <tr>\n",
       "      <th>9</th>\n",
       "      <td>2021-11-06</td>\n",
       "      <td>10</td>\n",
       "      <td>Levitating</td>\n",
       "      <td>Dua Lipa</td>\n",
       "      <td>8.0</td>\n",
       "      <td>2</td>\n",
       "      <td>56</td>\n",
       "    </tr>\n",
       "  </tbody>\n",
       "</table>\n",
       "</div>"
      ],
      "text/plain": [
       "         date  rank           song                               artist  \\\n",
       "0  2021-11-06     1     Easy On Me                                Adele   \n",
       "1  2021-11-06     2           Stay        The Kid LAROI & Justin Bieber   \n",
       "2  2021-11-06     3  Industry Baby              Lil Nas X & Jack Harlow   \n",
       "3  2021-11-06     4     Fancy Like                         Walker Hayes   \n",
       "4  2021-11-06     5     Bad Habits                           Ed Sheeran   \n",
       "5  2021-11-06     6     Way 2 Sexy  Drake Featuring Future & Young Thug   \n",
       "6  2021-11-06     7        Shivers                           Ed Sheeran   \n",
       "7  2021-11-06     8       Good 4 U                       Olivia Rodrigo   \n",
       "8  2021-11-06     9   Need To Know                             Doja Cat   \n",
       "9  2021-11-06    10     Levitating                             Dua Lipa   \n",
       "\n",
       "   last-week  peak-rank  weeks-on-board  \n",
       "0        1.0          1               3  \n",
       "1        2.0          1              16  \n",
       "2        3.0          1              14  \n",
       "3        4.0          3              19  \n",
       "4        5.0          2              18  \n",
       "5        6.0          1               8  \n",
       "6        9.0          7               7  \n",
       "7        7.0          1              24  \n",
       "8       11.0          9              20  \n",
       "9        8.0          2              56  "
      ]
     },
     "execution_count": 8,
     "metadata": {},
     "output_type": "execute_result"
    }
   ],
   "source": [
    "df_clean.loc[:, 'date'] = pd.to_datetime(df_clean.loc[:, 'date']).dt.date\n",
    "df_clean.head(10)"
   ]
  },
  {
   "cell_type": "markdown",
   "metadata": {},
   "source": []
  },
  {
   "cell_type": "markdown",
   "metadata": {},
   "source": [
    "###### Now that we've cleaned and prepared the dataset, we can now move on to the analysis phase."
   ]
  },
  {
   "cell_type": "markdown",
   "metadata": {},
   "source": [
    "#### Analysis Phase\n",
    "\n",
    "\n",
    "###### During this phase, we will delve deeper into the dataset. We will answer some questions with visualization."
   ]
  },
  {
   "cell_type": "code",
   "execution_count": 14,
   "metadata": {},
   "outputs": [
    {
     "data": {
      "image/png": "[encoded data removed]",
      "text/plain": [
       "<Figure size 1000x600 with 1 Axes>"
      ]
     },
     "metadata": {},
     "output_type": "display_data"
    }
   ],
   "source": [
    "# 1a. How has the average rank of songs in the top 100 change over the years?\n",
    "df_clean.loc[:, 'year'] = pd.to_datetime(df_clean.loc[:, 'date']).dt.year\n",
    "average_rank_by_year = df_clean.groupby('year')['rank'].mean()\n",
    "\n",
    "plt.figure(figsize=(10,6))\n",
    "plt.plot(average_rank_by_year.index, average_rank_by_year.values, marker='o', linestyle='-', color='b')\n",
    "plt.xlabel('Year')\n",
    "plt.ylabel('Average Rank')\n",
    "plt.title('Average Rank of Top 100 Songs Over the Years')\n",
    "plt.grid(True)\n",
    "plt.show()"
   ]
  },
  {
   "cell_type": "markdown",
   "metadata": {},
   "source": [
    "###### It looks like that the Average Rank is between 44 and 49, meaning that most songs through out the years held this mean of rank."
   ]
  },
  {
   "cell_type": "code",
   "execution_count": 16,
   "metadata": {},
   "outputs": [
    {
     "data": {
      "image/png": "[encoded data removed]",
      "text/plain": [
       "<Figure size 1000x600 with 1 Axes>"
      ]
     },
     "metadata": {},
     "output_type": "display_data"
    }
   ],
   "source": [
    "# 1b. Is there a noticeable trend in the number of weeks songs stay on the top 100 chart of the years?\n",
    "average_week_by_year = df_clean.groupby('year')['weeks-on-board'].mean()\n",
    "\n",
    "plt.figure(figsize=(10,6))\n",
    "plt.plot(average_week_by_year.index, average_week_by_year.values, marker='o', linestyle='-', color='r')\n",
    "plt.xlabel('Year')\n",
    "plt.ylabel('Average Weeks on Chart')\n",
    "plt.title('Average Weeks on Chart for Top 100 Songs Over the Years')\n",
    "plt.grid(True)\n",
    "plt.show()"
   ]
  },
  {
   "cell_type": "markdown",
   "metadata": {},
   "source": [
    "###### With this chart, it looks like most songs in the top 100 between 1950 and 1980 held 6-8 weeks on board. Afterwards, the weeks on board has increased throughout the years."
   ]
  },
  {
   "cell_type": "code",
   "execution_count": 19,
   "metadata": {},
   "outputs": [
    {
     "name": "stdout",
     "output_type": "stream",
     "text": [
      "The songs with the most weeks at number one: Old Town Road\n",
      "Total weeks at number one: 19\n"
     ]
    }
   ],
   "source": [
    "# 2a. Which songs spent the most weeks at the number one spot?\n",
    "number_one_songs = df_clean[df_clean['rank'] == 1]\n",
    "weeks_at_number_one = number_one_songs.groupby('song')['weeks-on-board'].count()\n",
    "\n",
    "most_weeks_at_number_one = weeks_at_number_one.idxmax()\n",
    "most_weeks = weeks_at_number_one.max()\n",
    "most_weeks_str = str(most_weeks)\n",
    "\n",
    "print(\"The songs with the most weeks at number one: \" + most_weeks_at_number_one)\n",
    "print(\"Total weeks at number one: \" + most_weeks_str)"
   ]
  },
  {
   "cell_type": "markdown",
   "metadata": {},
   "source": [
    "###### This python analysis was a little tedious. Initially we used the sum() function, but it ended up adding all values within a song, and would give it a big number that didn't look right. When we used the count() function, it was able to count the number of weeks the song would hold the number one spot."
   ]
  },
  {
   "cell_type": "code",
   "execution_count": 35,
   "metadata": {},
   "outputs": [
    {
     "name": "stdout",
     "output_type": "stream",
     "text": [
      "Artist(s) with the most songs at number one: \n",
      "artist\n",
      "The Beatles    19\n",
      "Name: song, dtype: int64\n"
     ]
    }
   ],
   "source": [
    "# 2b. What artist had the most songs at the number one spot?\n",
    "artist_counts = number_one_songs.groupby('artist')['song'].nunique()\n",
    "\n",
    "# Find the artist(s) with the most number one songs\n",
    "artists_with_most_number_one_songs = artist_counts[artist_counts == artist_counts.max()]\n",
    "\n",
    "print(\"Artist(s) with the most songs at number one: \")\n",
    "print(artists_with_most_number_one_songs)"
   ]
  },
  {
   "cell_type": "code",
   "execution_count": 50,
   "metadata": {},
   "outputs": [
    {
     "name": "stdout",
     "output_type": "stream",
     "text": [
      "Percentage of songs that dropped significantly: 1.33%\n"
     ]
    }
   ],
   "source": [
    "# 3a. How often do songs that reach the number one spot drop significantly in rank the following week?\n",
    "dropped_significantly_count = 0\n",
    "significant_drop_threshold = 10\n",
    "\n",
    "for index, song in number_one_songs.iterrows():\n",
    "    current_rank = song['rank']\n",
    "    last_week_rank = song['last-week']\n",
    "    \n",
    "    if last_week_rank - current_rank > significant_drop_threshold:\n",
    "        dropped_significantly_count += 1\n",
    "\n",
    "total_number_one_songs = len(number_one_songs)\n",
    "percentage_dropped_significantly = (dropped_significantly_count / total_number_one_songs) * 100\n",
    "print(f\"Percentage of songs that dropped significantly: {percentage_dropped_significantly:.2f}%\")"
   ]
  },
  {
   "cell_type": "markdown",
   "metadata": {},
   "source": []
  },
  {
   "cell_type": "markdown",
   "metadata": {},
   "source": []
  }
 ],
 "metadata": {
  "kernelspec": {
   "display_name": "Python 3",
   "language": "python",
   "name": "python3"
  },
  "language_info": {
   "codemirror_mode": {
    "name": "ipython",
    "version": 3
   },
   "file_extension": ".py",
   "mimetype": "text/x-python",
   "name": "python",
   "nbconvert_exporter": "python",
   "pygments_lexer": "ipython3",
   "version": "3.11.4"
  },
  "orig_nbformat": 4
 },
 "nbformat": 4,
 "nbformat_minor": 2
}
